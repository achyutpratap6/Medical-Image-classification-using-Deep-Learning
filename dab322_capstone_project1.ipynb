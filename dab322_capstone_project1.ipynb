{
  "nbformat": 4,
  "nbformat_minor": 0,
  "metadata": {
    "colab": {
      "provenance": [],
      "gpuType": "T4",
      "mount_file_id": "1K128jMG84bLv8C92jtZQUMY-6kVdnHXM",
      "authorship_tag": "ABX9TyPeUfmrKHhkmiu+Oer97d1h",
      "include_colab_link": true
    },
    "kernelspec": {
      "name": "python3",
      "display_name": "Python 3"
    },
    "language_info": {
      "name": "python"
    },
    "accelerator": "GPU"
  },
  "cells": [
    {
      "cell_type": "markdown",
      "metadata": {
        "id": "view-in-github",
        "colab_type": "text"
      },
      "source": [
        "<a href=\"https://colab.research.google.com/github/achyutpratap6/Medical-Image-classification-using-Deep-Learning/blob/main/dab322_capstone_project1.ipynb\" target=\"_parent\"><img src=\"https://colab.research.google.com/assets/colab-badge.svg\" alt=\"Open In Colab\"/></a>"
      ]
    },
    {
      "cell_type": "code",
      "execution_count": null,
      "metadata": {
        "colab": {
          "base_uri": "https://localhost:8080/"
        },
        "id": "2fbZk5DPaOrB",
        "outputId": "65c7c242-c680-4e4a-aabe-01352a33a5bc"
      },
      "outputs": [
        {
          "output_type": "stream",
          "name": "stdout",
          "text": [
            "Mounted at /content/grive\n"
          ]
        }
      ],
      "source": [
        "from google.colab import drive\n",
        "drive.mount('/content/grive')"
      ]
    },
    {
      "cell_type": "code",
      "source": [
        "!nvidia-smi"
      ],
      "metadata": {
        "colab": {
          "base_uri": "https://localhost:8080/"
        },
        "id": "dxp2njgOaPmh",
        "outputId": "2ca3113e-6183-4bbe-b6c4-3049bfeb11ef"
      },
      "execution_count": null,
      "outputs": [
        {
          "output_type": "stream",
          "name": "stdout",
          "text": [
            "Wed Jul 26 05:38:04 2023       \n",
            "+-----------------------------------------------------------------------------+\n",
            "| NVIDIA-SMI 525.105.17   Driver Version: 525.105.17   CUDA Version: 12.0     |\n",
            "|-------------------------------+----------------------+----------------------+\n",
            "| GPU  Name        Persistence-M| Bus-Id        Disp.A | Volatile Uncorr. ECC |\n",
            "| Fan  Temp  Perf  Pwr:Usage/Cap|         Memory-Usage | GPU-Util  Compute M. |\n",
            "|                               |                      |               MIG M. |\n",
            "|===============================+======================+======================|\n",
            "|   0  Tesla T4            Off  | 00000000:00:04.0 Off |                    0 |\n",
            "| N/A   64C    P8    12W /  70W |      0MiB / 15360MiB |      0%      Default |\n",
            "|                               |                      |                  N/A |\n",
            "+-------------------------------+----------------------+----------------------+\n",
            "                                                                               \n",
            "+-----------------------------------------------------------------------------+\n",
            "| Processes:                                                                  |\n",
            "|  GPU   GI   CI        PID   Type   Process name                  GPU Memory |\n",
            "|        ID   ID                                                   Usage      |\n",
            "|=============================================================================|\n",
            "|  No running processes found                                                 |\n",
            "+-----------------------------------------------------------------------------+\n"
          ]
        }
      ]
    },
    {
      "cell_type": "code",
      "source": [
        "!pip install tensorflow"
      ],
      "metadata": {
        "colab": {
          "base_uri": "https://localhost:8080/"
        },
        "id": "pBLBr64yAgsJ",
        "outputId": "2f8bf848-6f8f-4685-cddf-a0af9d94d119"
      },
      "execution_count": null,
      "outputs": [
        {
          "output_type": "stream",
          "name": "stdout",
          "text": [
            "Requirement already satisfied: tensorflow in /usr/local/lib/python3.10/dist-packages (2.12.0)\n",
            "Requirement already satisfied: absl-py>=1.0.0 in /usr/local/lib/python3.10/dist-packages (from tensorflow) (1.4.0)\n",
            "Requirement already satisfied: astunparse>=1.6.0 in /usr/local/lib/python3.10/dist-packages (from tensorflow) (1.6.3)\n",
            "Requirement already satisfied: flatbuffers>=2.0 in /usr/local/lib/python3.10/dist-packages (from tensorflow) (23.5.26)\n",
            "Requirement already satisfied: gast<=0.4.0,>=0.2.1 in /usr/local/lib/python3.10/dist-packages (from tensorflow) (0.4.0)\n",
            "Requirement already satisfied: google-pasta>=0.1.1 in /usr/local/lib/python3.10/dist-packages (from tensorflow) (0.2.0)\n",
            "Requirement already satisfied: grpcio<2.0,>=1.24.3 in /usr/local/lib/python3.10/dist-packages (from tensorflow) (1.56.0)\n",
            "Requirement already satisfied: h5py>=2.9.0 in /usr/local/lib/python3.10/dist-packages (from tensorflow) (3.8.0)\n",
            "Requirement already satisfied: jax>=0.3.15 in /usr/local/lib/python3.10/dist-packages (from tensorflow) (0.4.13)\n",
            "Requirement already satisfied: keras<2.13,>=2.12.0 in /usr/local/lib/python3.10/dist-packages (from tensorflow) (2.12.0)\n",
            "Requirement already satisfied: libclang>=13.0.0 in /usr/local/lib/python3.10/dist-packages (from tensorflow) (16.0.6)\n",
            "Requirement already satisfied: numpy<1.24,>=1.22 in /usr/local/lib/python3.10/dist-packages (from tensorflow) (1.22.4)\n",
            "Requirement already satisfied: opt-einsum>=2.3.2 in /usr/local/lib/python3.10/dist-packages (from tensorflow) (3.3.0)\n",
            "Requirement already satisfied: packaging in /usr/local/lib/python3.10/dist-packages (from tensorflow) (23.1)\n",
            "Requirement already satisfied: protobuf!=4.21.0,!=4.21.1,!=4.21.2,!=4.21.3,!=4.21.4,!=4.21.5,<5.0.0dev,>=3.20.3 in /usr/local/lib/python3.10/dist-packages (from tensorflow) (3.20.3)\n",
            "Requirement already satisfied: setuptools in /usr/local/lib/python3.10/dist-packages (from tensorflow) (67.7.2)\n",
            "Requirement already satisfied: six>=1.12.0 in /usr/local/lib/python3.10/dist-packages (from tensorflow) (1.16.0)\n",
            "Requirement already satisfied: tensorboard<2.13,>=2.12 in /usr/local/lib/python3.10/dist-packages (from tensorflow) (2.12.3)\n",
            "Requirement already satisfied: tensorflow-estimator<2.13,>=2.12.0 in /usr/local/lib/python3.10/dist-packages (from tensorflow) (2.12.0)\n",
            "Requirement already satisfied: termcolor>=1.1.0 in /usr/local/lib/python3.10/dist-packages (from tensorflow) (2.3.0)\n",
            "Requirement already satisfied: typing-extensions>=3.6.6 in /usr/local/lib/python3.10/dist-packages (from tensorflow) (4.7.1)\n",
            "Requirement already satisfied: wrapt<1.15,>=1.11.0 in /usr/local/lib/python3.10/dist-packages (from tensorflow) (1.14.1)\n",
            "Requirement already satisfied: tensorflow-io-gcs-filesystem>=0.23.1 in /usr/local/lib/python3.10/dist-packages (from tensorflow) (0.32.0)\n",
            "Requirement already satisfied: wheel<1.0,>=0.23.0 in /usr/local/lib/python3.10/dist-packages (from astunparse>=1.6.0->tensorflow) (0.40.0)\n",
            "Requirement already satisfied: ml-dtypes>=0.1.0 in /usr/local/lib/python3.10/dist-packages (from jax>=0.3.15->tensorflow) (0.2.0)\n",
            "Requirement already satisfied: scipy>=1.7 in /usr/local/lib/python3.10/dist-packages (from jax>=0.3.15->tensorflow) (1.10.1)\n",
            "Requirement already satisfied: google-auth<3,>=1.6.3 in /usr/local/lib/python3.10/dist-packages (from tensorboard<2.13,>=2.12->tensorflow) (2.17.3)\n",
            "Requirement already satisfied: google-auth-oauthlib<1.1,>=0.5 in /usr/local/lib/python3.10/dist-packages (from tensorboard<2.13,>=2.12->tensorflow) (1.0.0)\n",
            "Requirement already satisfied: markdown>=2.6.8 in /usr/local/lib/python3.10/dist-packages (from tensorboard<2.13,>=2.12->tensorflow) (3.4.3)\n",
            "Requirement already satisfied: requests<3,>=2.21.0 in /usr/local/lib/python3.10/dist-packages (from tensorboard<2.13,>=2.12->tensorflow) (2.27.1)\n",
            "Requirement already satisfied: tensorboard-data-server<0.8.0,>=0.7.0 in /usr/local/lib/python3.10/dist-packages (from tensorboard<2.13,>=2.12->tensorflow) (0.7.1)\n",
            "Requirement already satisfied: werkzeug>=1.0.1 in /usr/local/lib/python3.10/dist-packages (from tensorboard<2.13,>=2.12->tensorflow) (2.3.6)\n",
            "Requirement already satisfied: cachetools<6.0,>=2.0.0 in /usr/local/lib/python3.10/dist-packages (from google-auth<3,>=1.6.3->tensorboard<2.13,>=2.12->tensorflow) (5.3.1)\n",
            "Requirement already satisfied: pyasn1-modules>=0.2.1 in /usr/local/lib/python3.10/dist-packages (from google-auth<3,>=1.6.3->tensorboard<2.13,>=2.12->tensorflow) (0.3.0)\n",
            "Requirement already satisfied: rsa<5,>=3.1.4 in /usr/local/lib/python3.10/dist-packages (from google-auth<3,>=1.6.3->tensorboard<2.13,>=2.12->tensorflow) (4.9)\n",
            "Requirement already satisfied: requests-oauthlib>=0.7.0 in /usr/local/lib/python3.10/dist-packages (from google-auth-oauthlib<1.1,>=0.5->tensorboard<2.13,>=2.12->tensorflow) (1.3.1)\n",
            "Requirement already satisfied: urllib3<1.27,>=1.21.1 in /usr/local/lib/python3.10/dist-packages (from requests<3,>=2.21.0->tensorboard<2.13,>=2.12->tensorflow) (1.26.16)\n",
            "Requirement already satisfied: certifi>=2017.4.17 in /usr/local/lib/python3.10/dist-packages (from requests<3,>=2.21.0->tensorboard<2.13,>=2.12->tensorflow) (2023.5.7)\n",
            "Requirement already satisfied: charset-normalizer~=2.0.0 in /usr/local/lib/python3.10/dist-packages (from requests<3,>=2.21.0->tensorboard<2.13,>=2.12->tensorflow) (2.0.12)\n",
            "Requirement already satisfied: idna<4,>=2.5 in /usr/local/lib/python3.10/dist-packages (from requests<3,>=2.21.0->tensorboard<2.13,>=2.12->tensorflow) (3.4)\n",
            "Requirement already satisfied: MarkupSafe>=2.1.1 in /usr/local/lib/python3.10/dist-packages (from werkzeug>=1.0.1->tensorboard<2.13,>=2.12->tensorflow) (2.1.3)\n",
            "Requirement already satisfied: pyasn1<0.6.0,>=0.4.6 in /usr/local/lib/python3.10/dist-packages (from pyasn1-modules>=0.2.1->google-auth<3,>=1.6.3->tensorboard<2.13,>=2.12->tensorflow) (0.5.0)\n",
            "Requirement already satisfied: oauthlib>=3.0.0 in /usr/local/lib/python3.10/dist-packages (from requests-oauthlib>=0.7.0->google-auth-oauthlib<1.1,>=0.5->tensorboard<2.13,>=2.12->tensorflow) (3.2.2)\n"
          ]
        }
      ]
    },
    {
      "cell_type": "code",
      "source": [
        "import tensorflow as tf\n",
        "tf.__version__"
      ],
      "metadata": {
        "colab": {
          "base_uri": "https://localhost:8080/",
          "height": 35
        },
        "id": "f45WZKSHBfCT",
        "outputId": "3eaf85c9-e427-4841-cedd-427070f92d9b"
      },
      "execution_count": null,
      "outputs": [
        {
          "output_type": "execute_result",
          "data": {
            "text/plain": [
              "'2.12.0'"
            ],
            "application/vnd.google.colaboratory.intrinsic+json": {
              "type": "string"
            }
          },
          "metadata": {},
          "execution_count": 4
        }
      ]
    },
    {
      "cell_type": "code",
      "source": [
        "# import libraries\n",
        "import pandas as pd\n",
        "import numpy as np\n",
        "import matplotlib\n",
        "matplotlib.use(\"Agg\")\n",
        "import matplotlib.pyplot as plt\n",
        "import seaborn as sns\n",
        "\n",
        "from imutils import paths\n",
        "import argparse\n",
        "import random\n",
        "import pickle\n",
        "import cv2\n",
        "import os"
      ],
      "metadata": {
        "id": "5oQSPF1QBu5b"
      },
      "execution_count": null,
      "outputs": []
    },
    {
      "cell_type": "code",
      "source": [
        "# Path of Train data folder\n",
        "data_dir = '/content/grive/MyDrive/Data/Full'\n",
        "# Image Size\n",
        "IMAGE_SIZE = (150,150)"
      ],
      "metadata": {
        "id": "ZtYtq5MM51gz"
      },
      "execution_count": null,
      "outputs": []
    },
    {
      "cell_type": "code",
      "source": [
        "# Initialize the data and labels as an empty list\n",
        "# Reshape the image data and append it in the list-data\n",
        "data = []\n",
        "# Encode the image labels and append it in the list-labels\n",
        "labels = []\n",
        "\n",
        "# Create single list by of absolute path of images by concatenating the file name of each images with its respective folder name.\n",
        "TraImagePaths = sorted(list(paths.list_images(data_dir)))\n",
        "# Total number images in Training\n",
        "total_number_of_images = len(TraImagePaths)\n",
        "print(\"Total number of Images----->\",total_number_of_images)\n"
      ],
      "metadata": {
        "colab": {
          "base_uri": "https://localhost:8080/"
        },
        "id": "wTbDGfaV7FsY",
        "outputId": "de490c0e-dce9-4f95-fd8c-53acf687651a"
      },
      "execution_count": null,
      "outputs": [
        {
          "output_type": "stream",
          "name": "stdout",
          "text": [
            "Total number of Images-----> 300\n"
          ]
        }
      ]
    },
    {
      "cell_type": "code",
      "source": [
        "# Randomly shuffle all the image file name\n",
        "random.shuffle(TraImagePaths)"
      ],
      "metadata": {
        "id": "0tu6PCmm8t80"
      },
      "execution_count": null,
      "outputs": []
    },
    {
      "cell_type": "code",
      "source": [
        "# Check\n",
        "TraImagePaths"
      ],
      "metadata": {
        "colab": {
          "base_uri": "https://localhost:8080/"
        },
        "id": "CQ7dyqzN9At1",
        "outputId": "c1d6ba57-3940-4f10-e479-7a8ce1806948"
      },
      "execution_count": null,
      "outputs": [
        {
          "output_type": "execute_result",
          "data": {
            "text/plain": [
              "['/content/grive/MyDrive/Data/Full/Bed/Baxton Studio Adela Modern and Contemporary Grey Finished Wood Queen Size Platform Bed.jpg',\n",
              " '/content/grive/MyDrive/Data/Full/Bed/Anya Full Fabric Bed.jpg',\n",
              " '/content/grive/MyDrive/Data/Full/Sofa/Allure Upholstered Sofa.jpg',\n",
              " '/content/grive/MyDrive/Data/Full/Sofa/Baxton Studio Ally Modern and Contemporary Charcoal Fabric Upholstered Twin Size Sofa Daybed with Roll Out Trundle Guest Bed.jpg',\n",
              " '/content/grive/MyDrive/Data/Full/Bed/Amelia Twin Performance Velvet Bed.jpg',\n",
              " '/content/grive/MyDrive/Data/Full/Sofa/3 Seater Sofa.jpg',\n",
              " '/content/grive/MyDrive/Data/Full/Sofa/Armen Living Everly Contemporary Sofa in Genuine Black Leather with Brushed Stainless Steel Legs.jpg',\n",
              " '/content/grive/MyDrive/Data/Full/Sofa/Baxton Studio Amaris Modern and Contemporary Grey Bonded Leather 5-Piece Power Reclining Sectional Sofa with USB Ports.jpg',\n",
              " '/content/grive/MyDrive/Data/Full/Chair/Ardor Office Chair in Black .jpg',\n",
              " '/content/grive/MyDrive/Data/Full/Bed/Alina Twin Platform Bed Frame.jpg',\n",
              " '/content/grive/MyDrive/Data/Full/Chair/Brooklyn High Back Office Chair.jpg',\n",
              " '/content/grive/MyDrive/Data/Full/Sofa/Armen Living Amanda Black Corner Sofa.jpg',\n",
              " '/content/grive/MyDrive/Data/Full/Bed/Anya Queen Bed in Gray.jpg',\n",
              " '/content/grive/MyDrive/Data/Full/Chair/Arrow Swivel Chair-Dobie Ecru.jpg',\n",
              " '/content/grive/MyDrive/Data/Full/Chair/Ardor Office Chair.jpg',\n",
              " '/content/grive/MyDrive/Data/Full/Sofa/Armen Living Odyssey Sofa Chair in Brushed Stainless Steel finish with Grey Tweed and Black Nail heads.jpg',\n",
              " '/content/grive/MyDrive/Data/Full/Sofa/Baxton Studio Allister Mid-Century Modern Dark Grey Fabric Upholstered 2-Piece Living Room Set.jpg',\n",
              " '/content/grive/MyDrive/Data/Full/Sofa/Bag Sofa Velvet Green(1).jpg',\n",
              " '/content/grive/MyDrive/Data/Full/Bed/Anya Twin Bed.jpg',\n",
              " '/content/grive/MyDrive/Data/Full/Sofa/Winslow Modern and Contemporary Blue Fabric Upholstered 2-Piece Left Facing Sectional.jpg',\n",
              " '/content/grive/MyDrive/Data/Full/Sofa/Armen Living Elegance Contemporary Sofa in Grey Velvet with Acrylic Legs.jpg',\n",
              " '/content/grive/MyDrive/Data/Full/Chair/Articulate Vinyl Office Chair.jpg',\n",
              " '/content/grive/MyDrive/Data/Full/Chair/Axel High Back Office Chair.jpg',\n",
              " '/content/grive/MyDrive/Data/Full/Chair/ALBUS SWIVEL OFFICE CHAIR BLACK.jpg',\n",
              " '/content/grive/MyDrive/Data/Full/Chair/Banks Swivel Chair-Umber Grey.jpg',\n",
              " '/content/grive/MyDrive/Data/Full/Bed/Baxton Studio Alba Modern Transitional Ash Walnut Brown Finished Wood King Size 4-Drawer Platform Storage Bed with Built-In Shelves.jpg',\n",
              " '/content/grive/MyDrive/Data/Full/Chair/Baxton Studio Rathburn Modern and Contemporary White and Walnut Office Chair.jpg',\n",
              " '/content/grive/MyDrive/Data/Full/Bed/Anya Beige Queen Bed.jpg',\n",
              " '/content/grive/MyDrive/Data/Full/Chair/BERNARD DESK CHAIR.jpg',\n",
              " '/content/grive/MyDrive/Data/Full/Bed/Ashland Queen Faux Leather Platform Bed.jpg',\n",
              " '/content/grive/MyDrive/Data/Full/Sofa/Armen Living Cambridge Contemporary Sofa Chair in Brushed Stainless Steel and Dark Grey Velvet.jpg',\n",
              " '/content/grive/MyDrive/Data/Full/Sofa/Baxton Studio Allister Mid-Century Modern Light Grey Fabric Upholstered Sofa.jpg',\n",
              " '/content/grive/MyDrive/Data/Full/Sofa/Armen Living Cobra Mid-Century Modern Sofa in Dark Gray Linen and Walnut Legs.jpg',\n",
              " '/content/grive/MyDrive/Data/Full/Chair/Archer Executive Chair.jpg',\n",
              " '/content/grive/MyDrive/Data/Full/Chair/Augustine Swivel Chair-Deacon Wolf.jpg',\n",
              " '/content/grive/MyDrive/Data/Full/Chair/Augustine Swivel Chair-Dover Crescent.jpg',\n",
              " '/content/grive/MyDrive/Data/Full/Chair/Banks Swivel Chair-Cambric Ivory.jpg',\n",
              " '/content/grive/MyDrive/Data/Full/Sofa/ANDERS SOFA .jpg',\n",
              " '/content/grive/MyDrive/Data/Full/Chair/Amish Dining Wood Armchair in White .jpg',\n",
              " '/content/grive/MyDrive/Data/Full/Sofa/Agile Upholstered Fabric Sofa.jpg',\n",
              " '/content/grive/MyDrive/Data/Full/Chair/Armen Living Santiago Mid-Century Office Chair in Black Faux Leather with Walnut Wood Finish.jpg',\n",
              " '/content/grive/MyDrive/Data/Full/Sofa/Bag Sofa Velvet Pink.jpg',\n",
              " '/content/grive/MyDrive/Data/Full/Bed/Aubree Queen Upholstered Platform Bed in Beige.jpg',\n",
              " '/content/grive/MyDrive/Data/Full/Chair/Allen Molded PC Office Chair.jpg',\n",
              " '/content/grive/MyDrive/Data/Full/Bed/Anya Full Bed.jpg',\n",
              " '/content/grive/MyDrive/Data/Full/Bed/Aubree Queen Upholstered Fabric Sleigh Platform Bed.jpg',\n",
              " '/content/grive/MyDrive/Data/Full/Chair/Armen Living Julian Modern Office Chair In Chrome Finish with Black Faux Leather And Walnut Veneer Back.jpg',\n",
              " '/content/grive/MyDrive/Data/Full/Chair/Bonded Leather Executive Chair.jpg',\n",
              " '/content/grive/MyDrive/Data/Full/Sofa/Armen Living Barrister Chair In Gray Velvet with Black Piping.jpg',\n",
              " '/content/grive/MyDrive/Data/Full/Sofa/Allure 2 Piece Sofa and Armchair Set.jpg',\n",
              " '/content/grive/MyDrive/Data/Full/Sofa/Albie Sofa.jpg',\n",
              " '/content/grive/MyDrive/Data/Full/Bed/Amelia Queen Faux Leather Bed.jpg',\n",
              " '/content/grive/MyDrive/Data/Full/Sofa/2 Seater Sofa.jpg',\n",
              " '/content/grive/MyDrive/Data/Full/Sofa/Baxton Studio Ambra Glam and Luxe Royal Blue Velvet Fabric Upholstered and Button Tufted Gold Sofa with Gold-Tone Frame.jpg',\n",
              " '/content/grive/MyDrive/Data/Full/Sofa/Armen Living Elegance Contemporary Sofa Chair in Grey Velvet with Acrylic Legs.jpg',\n",
              " '/content/grive/MyDrive/Data/Full/Bed/Baxton Studio Alesha Modern and Contemporary Grey Fabric Upholstered Full Size Bed.jpg',\n",
              " '/content/grive/MyDrive/Data/Full/Sofa/Armen Living Element Mid-Century Modern Sofa in Dark Gray Linen and Walnut Legs.jpg',\n",
              " '/content/grive/MyDrive/Data/Full/Bed/Amaris King Fabric Platform Bed with Squared Tapered Legs.jpg',\n",
              " '/content/grive/MyDrive/Data/Full/Chair/Baxton Studio Bruce Walnut and Black Modern Office Chair.jpg',\n",
              " '/content/grive/MyDrive/Data/Full/Chair/Armen Living Daphne Modern Office Chair In Chrome Finish with Black Faux Leather And Walnut Veneer Back.jpg',\n",
              " '/content/grive/MyDrive/Data/Full/Sofa/Atlantic Sofa.jpg',\n",
              " '/content/grive/MyDrive/Data/Full/Sofa/Alba Lounge Sofa.jpg',\n",
              " '/content/grive/MyDrive/Data/Full/Bed/Addison King Bed.jpg',\n",
              " '/content/grive/MyDrive/Data/Full/Bed/Amelie Bed Queen White.jpg',\n",
              " '/content/grive/MyDrive/Data/Full/Sofa/Augustine Sofa-97-Sapphire Navy.jpg',\n",
              " '/content/grive/MyDrive/Data/Full/Chair/Allison Bungie Low Back Office Chair.jpg',\n",
              " '/content/grive/MyDrive/Data/Full/Chair/Alpha Office Chair.jpg',\n",
              " '/content/grive/MyDrive/Data/Full/Chair/Amber Desk Chair-Savile Flax.jpg',\n",
              " '/content/grive/MyDrive/Data/Full/Bed/Baxton Studio Ainge Contemporary Button-Tufted Light Beige Fabric Upholstered Storage King-Size Bed with 2-drawer.jpg',\n",
              " '/content/grive/MyDrive/Data/Full/Sofa/Armen Living Wynne Contemporary Sofa in Genuine Black Leather with Brown Wood Legs.jpg',\n",
              " '/content/grive/MyDrive/Data/Full/Chair/Armen Living Truly Contemporary Swivel Chair in Grey Velvet and Black Velvet Piping.jpg',\n",
              " '/content/grive/MyDrive/Data/Full/Bed/Amira Queen Upholstered Fabric Bed.jpg',\n",
              " '/content/grive/MyDrive/Data/Full/Chair/Bergen High Back Office Chair.jpg',\n",
              " '/content/grive/MyDrive/Data/Full/Chair/Amish Dining Wood Armchair in Black .jpg',\n",
              " '/content/grive/MyDrive/Data/Full/Bed/Amaris Full Fabric Platform Bed with Round Splayed Legs.jpg',\n",
              " '/content/grive/MyDrive/Data/Full/Sofa/Armen Living Andre Contemporary Sofa in Brushed Stainless Steel and Blue Fabric.jpg',\n",
              " '/content/grive/MyDrive/Data/Full/Bed/Baxton Studio Alke Mid-Century Modern Light Grey Fabric Upholstered Walnut Brown Finished Wood King Size Platform Bed.jpg',\n",
              " '/content/grive/MyDrive/Data/Full/Sofa/Agile Upholstered Fabric Sofa and Armchair Set.jpg',\n",
              " '/content/grive/MyDrive/Data/Full/Sofa/AUGUSTINE SOFA.jpg',\n",
              " '/content/grive/MyDrive/Data/Full/Chair/Bridgeway Office Chair.jpg',\n",
              " '/content/grive/MyDrive/Data/Full/Chair/Banks Swivel Chair-Rider Black.jpg',\n",
              " '/content/grive/MyDrive/Data/Full/Chair/Baxton Studio Rayner Modern and Contemporary Grey Fabric Upholstered Swivel Chair.jpg',\n",
              " '/content/grive/MyDrive/Data/Full/Bed/140 cm double bed.jpg',\n",
              " '/content/grive/MyDrive/Data/Full/Chair/Allison Bungie Flat Low Back Office Chair.jpg',\n",
              " '/content/grive/MyDrive/Data/Full/Chair/Baxton Studio Ambrosio Modern and Contemporary Black Faux Leather Upholstered Chrome-Finished Metal Adjustable Swivel Office Chair.jpg',\n",
              " '/content/grive/MyDrive/Data/Full/Chair/Adara Desk Chair-Knoll Natural.jpg',\n",
              " '/content/grive/MyDrive/Data/Full/Sofa/Armen Living Hudson Mid-Century Button-Tufted Sofa in Beige Linen and Walnut Legs.jpg',\n",
              " '/content/grive/MyDrive/Data/Full/Sofa/ARIA.jpg',\n",
              " '/content/grive/MyDrive/Data/Full/Chair/Beckett PU Swivel Chair.jpg',\n",
              " '/content/grive/MyDrive/Data/Full/Bed/Amira King Performance Velvet Bed.jpg',\n",
              " '/content/grive/MyDrive/Data/Full/Chair/Baxton Studio Rathburn Walnut and Black Modern Office Chair.jpg',\n",
              " '/content/grive/MyDrive/Data/Full/Chair/ADRIENNE LINEN CHROME LEG SWIVEL OFFICE CHAIR.jpg',\n",
              " '/content/grive/MyDrive/Data/Full/Bed/Baxton Studio Allegra Mid-Century Modern Dark Grey Fabric Upholstered and Ash Walnut Brown Finished Wood King Size Platform Bed.jpg',\n",
              " '/content/grive/MyDrive/Data/Full/Sofa/Armen Living Royce Contemporary Sofa with Polished Stainless Steel and Grey Fabric.jpg',\n",
              " '/content/grive/MyDrive/Data/Full/Chair/Baxton Studio Watson Modern and Contemporary White and Walnut Office Chair.jpg',\n",
              " '/content/grive/MyDrive/Data/Full/Sofa/Armen Living Hope Contemporary Chair in Genuine Dove Grey Leather with Black Metal Legs.jpg',\n",
              " '/content/grive/MyDrive/Data/Full/Sofa/Baxton Studio Ambra Glam and Luxe Grey Velvet Fabric Upholstered and Button Tufted Sofa with Gold-Tone Frame.jpg',\n",
              " '/content/grive/MyDrive/Data/Full/Sofa/Abbott 85 Sofa-Cigar.jpg',\n",
              " '/content/grive/MyDrive/Data/Full/Chair/Armen Living Diamond Mid-Century Office Chair in Chrome finish with Tufted Black Faux Leather and Walnut Veneer Back.jpg',\n",
              " '/content/grive/MyDrive/Data/Full/Chair/Bina High Back Office Chair.jpg',\n",
              " '/content/grive/MyDrive/Data/Full/Sofa/Align Upholstered Fabric Corner Sofa.jpg',\n",
              " '/content/grive/MyDrive/Data/Full/Sofa/Augustine Sofa-97-Dover Crescent.jpg',\n",
              " '/content/grive/MyDrive/Data/Full/Bed/Baxton Studio Aden Modern and Contemporary Grey Fabric Upholstered Queen Size Bed.jpg',\n",
              " '/content/grive/MyDrive/Data/Full/Sofa/Armen Living Everly Contemporary Chair in Genuine Dove Grey Leather with Brushed Stainless Steel Legs.jpg',\n",
              " '/content/grive/MyDrive/Data/Full/Bed/ALBI BED.jpg',\n",
              " '/content/grive/MyDrive/Data/Full/Chair/Baxton Studio Watson Walnut and Black Modern Office Chair.jpg',\n",
              " '/content/grive/MyDrive/Data/Full/Bed/Aidan Bed-Heavy Pebble Pewter-Queen.jpg',\n",
              " '/content/grive/MyDrive/Data/Full/Chair/AMY TUFTED LINEN CHROME LEG SWIVEL OFFICE CHAIR.jpg',\n",
              " '/content/grive/MyDrive/Data/Full/Sofa/Baxton Studio Adalynn Modern and Contemporary White Faux Leather Upholstered Sectional Sofa.jpg',\n",
              " '/content/grive/MyDrive/Data/Full/Chair/Augustine Swivel Chair-Hudson Lager.jpg',\n",
              " '/content/grive/MyDrive/Data/Full/Chair/Air Grid and Mesh Office Chair.jpg',\n",
              " '/content/grive/MyDrive/Data/Full/Sofa/Baxton Studio Arcadia Modern and Contemporary Grey Fabric Upholstered Button-Tufted Living Room 3-Seater Sofa.jpg',\n",
              " '/content/grive/MyDrive/Data/Full/Bed/120cm Bed with underbed drawer.jpg',\n",
              " '/content/grive/MyDrive/Data/Full/Chair/Arya KD Top Grain Leather Swivel Chair.jpg',\n",
              " '/content/grive/MyDrive/Data/Full/Bed/Amelie King Bed Gray.jpg',\n",
              " '/content/grive/MyDrive/Data/Full/Sofa/Armen Living Winston Antique Blue Bonded Leather Sofa.jpg',\n",
              " '/content/grive/MyDrive/Data/Full/Chair/Amelia Office Chair.jpg',\n",
              " '/content/grive/MyDrive/Data/Full/Sofa/Armen Living Andre Contemporary Sofa In Gray Tweed and Stainless Steel.jpg',\n",
              " '/content/grive/MyDrive/Data/Full/Bed/Aidan Bed-Vintage Tobacco-King.jpg',\n",
              " '/content/grive/MyDrive/Data/Full/Sofa/Armen Living Winston Antique Blue Bonded Leather Sofa Chair.jpg',\n",
              " '/content/grive/MyDrive/Data/Full/Chair/Armen Living Century Office Chair with Multifunctional Mechanism in Chrome finish with Black Faux Leather and Walnut Veneer Back.jpg',\n",
              " '/content/grive/MyDrive/Data/Full/Bed/Amira Twin Upholstered Fabric Bed.jpg',\n",
              " '/content/grive/MyDrive/Data/Full/Chair/Bonded Leather Executive Chair with.jpg',\n",
              " '/content/grive/MyDrive/Data/Full/Chair/Bonded Leather Executive Chair with Padded Flip Arms and Silver Base.jpg',\n",
              " '/content/grive/MyDrive/Data/Full/Bed/Baxton Studio Adelaide Retro Modern Light Beige Fabric Upholstered Queen Size Platform Bed.jpg',\n",
              " '/content/grive/MyDrive/Data/Full/Sofa/Baxton Studio Allister Mid-Century Modern Dark Grey Fabric Upholstered Sofa.jpg',\n",
              " '/content/grive/MyDrive/Data/Full/Chair/Beckett Fabric Swivel Chair.jpg',\n",
              " '/content/grive/MyDrive/Data/Full/Bed/Anya Full Fabric Bed in Beige.jpg',\n",
              " '/content/grive/MyDrive/Data/Full/Sofa/Baxton Studio Allister Mid-Century Modern Light Grey Fabric Upholstered 2-Piece Living Room Set.jpg',\n",
              " '/content/grive/MyDrive/Data/Full/Chair/Allison Bungie Flat High Back Office Chair.jpg',\n",
              " '/content/grive/MyDrive/Data/Full/Sofa/ASTORIA FOLDABLE FUTON BED.jpg',\n",
              " '/content/grive/MyDrive/Data/Full/Bed/Baxton Studio Alke Mid-Century Modern Dark Grey Fabric Upholstered Walnut Brown Finished Wood Queen Size Platform Bed.jpg',\n",
              " '/content/grive/MyDrive/Data/Full/Bed/Makenna Queen Performance Velvet Platform Bed.jpg',\n",
              " '/content/grive/MyDrive/Data/Full/Sofa/Allure 3 Piece Sofa and Armchair Set.jpg',\n",
              " '/content/grive/MyDrive/Data/Full/Sofa/Adept Performance Velvet Sofa.jpg',\n",
              " '/content/grive/MyDrive/Data/Full/Sofa/Activate Upholstered Fabric Sofa and Armchair Set.jpg',\n",
              " '/content/grive/MyDrive/Data/Full/Chair/Baba Flat High Back Office Chair.jpg',\n",
              " '/content/grive/MyDrive/Data/Full/Bed/Amelie Queen Bed Black.jpg',\n",
              " '/content/grive/MyDrive/Data/Full/Sofa/Augustine Sofa-97-Deacon Wolf.jpg',\n",
              " '/content/grive/MyDrive/Data/Full/Bed/Raina Queen Canopy Bed Frame.jpg',\n",
              " '/content/grive/MyDrive/Data/Full/Bed/Baxton Studio Alessia Modern and Contemporary Grey Fabric Upholstered Daybed with Guest Trundle Bed.jpg',\n",
              " '/content/grive/MyDrive/Data/Full/Chair/Braden Desk Chair-Light Camel.jpg',\n",
              " '/content/grive/MyDrive/Data/Full/Bed/Amelie Bed King White.jpg',\n",
              " '/content/grive/MyDrive/Data/Full/Bed/Baxton Studio Alessia Modern and Contemporary Beige Fabric Upholstered Daybed with Guest Trundle Bed.jpg',\n",
              " '/content/grive/MyDrive/Data/Full/Sofa/Armen Living Regis Contemporary Sofa in Grey Fabric with Black Metal Finish Legs and Antique Brown Nailhead Accents.jpg',\n",
              " '/content/grive/MyDrive/Data/Full/Sofa/Avalon Sofa.jpg',\n",
              " '/content/grive/MyDrive/Data/Full/Chair/BRUNNER DESK CHAIR.jpg',\n",
              " '/content/grive/MyDrive/Data/Full/Chair/Bergen Low Back Office Chair.jpg',\n",
              " '/content/grive/MyDrive/Data/Full/Bed/Baxton Studio Annalisa Modern Transitional Beige Fabric Upholstered Button Tufted King Size Panel Bed.jpg',\n",
              " '/content/grive/MyDrive/Data/Full/Bed/Bed Venla 160 x 200 cm blue.jpg',\n",
              " '/content/grive/MyDrive/Data/Full/Bed/Amelia Twin Faux Leather Bed.jpg',\n",
              " '/content/grive/MyDrive/Data/Full/Sofa/Arizona Sofa Table.jpg',\n",
              " '/content/grive/MyDrive/Data/Full/Chair/Baxton Studio Rayner Modern and Contemporary Beige Fabric Upholstered Swivel Chair.jpg',\n",
              " '/content/grive/MyDrive/Data/Full/Sofa/Baxton Studio Adalynn Modern and Contemporary White Faux Leather Upholstered Sofa.jpg',\n",
              " '/content/grive/MyDrive/Data/Full/Chair/Assert Mesh Drafting Chair.jpg',\n",
              " '/content/grive/MyDrive/Data/Full/Chair/Big Man_s AirGrid Drafting Chair.jpg',\n",
              " '/content/grive/MyDrive/Data/Full/Sofa/Baxton Studio Ally Modern and Contemporary Beige Fabric Upholstered Twin Size Sofa Daybed with Roll Out Trundle Guest Bed.jpg',\n",
              " '/content/grive/MyDrive/Data/Full/Bed/Baxton Studio Adela Modern and Contemporary Grey Finished Wood Twin Size Platform Bed.jpg',\n",
              " '/content/grive/MyDrive/Data/Full/Sofa/Armen Living Jedd Contemporary Chair in Genuine Black Leather with Brown Wood Legs.jpg',\n",
              " '/content/grive/MyDrive/Data/Full/Sofa/Armen Living Skyline Sofa In White Bonded Leather.jpg',\n",
              " '/content/grive/MyDrive/Data/Full/Chair/Augustine Swivel Chair-Orly Natural.jpg',\n",
              " '/content/grive/MyDrive/Data/Full/Chair/Armen Living Bellevue Mid-Century Office Chair in Chrome Finish with Black Faux Leather and Walnut Veneer.jpg',\n",
              " '/content/grive/MyDrive/Data/Full/Sofa/Bag sofa velvet green.jpg',\n",
              " '/content/grive/MyDrive/Data/Full/Bed/160 cm kingsize bed.jpg',\n",
              " '/content/grive/MyDrive/Data/Full/Bed/Amelie Queen Bed Gray.jpg',\n",
              " '/content/grive/MyDrive/Data/Full/Chair/Ascend Mid Back Office Chair.jpg',\n",
              " '/content/grive/MyDrive/Data/Full/Sofa/Armen Living Barrister Sofa In Gray Velvet With Black Piping.jpg',\n",
              " '/content/grive/MyDrive/Data/Full/Bed/Baxton Studio Alya Classic Traditional Farmhouse Walnut Brown Finished Wood Twin Size Daybed with Roll-Out Trundle Bed.jpg',\n",
              " '/content/grive/MyDrive/Data/Full/Bed/Amira Queen Performance Velvet Bed.jpg',\n",
              " '/content/grive/MyDrive/Data/Full/Chair/Augustine Swivel Chair-Sapphire Navy.jpg',\n",
              " '/content/grive/MyDrive/Data/Full/Chair/AMBER DESK CHAIR.jpg',\n",
              " '/content/grive/MyDrive/Data/Full/Chair/Articulate Mesh Office Chair.jpg',\n",
              " '/content/grive/MyDrive/Data/Full/Bed/Amaris Queen Fabric Platform Bed with Round Splayed Legs.jpg',\n",
              " '/content/grive/MyDrive/Data/Full/Bed/Amira Full Performance Velvet Bed.jpg',\n",
              " '/content/grive/MyDrive/Data/Full/Sofa/Baxton Studio Ally Modern and Contemporary Grey Fabric Upholstered Twin Size Sofa Daybed with Roll Out Trundle Guest Bed.jpg',\n",
              " '/content/grive/MyDrive/Data/Full/Bed/Amelie Full Bed Gray.jpg',\n",
              " '/content/grive/MyDrive/Data/Full/Sofa/Activate Upholstered Fabric Sofa.jpg',\n",
              " '/content/grive/MyDrive/Data/Full/Bed/Anya Queen Bed.jpg',\n",
              " '/content/grive/MyDrive/Data/Full/Bed/Aubree Queen Bed.jpg',\n",
              " '/content/grive/MyDrive/Data/Full/Sofa/Armen Living Jedd Contemporary Sofa in Genuine Black Leather with Brown Wood Legs.jpg',\n",
              " '/content/grive/MyDrive/Data/Full/Chair/Bina Low Back Office Chair.jpg',\n",
              " '/content/grive/MyDrive/Data/Full/Sofa/Baxton Studio Agnew Contemporary Light Beige Microfiber Right Facing Sectional Sofa.jpg',\n",
              " '/content/grive/MyDrive/Data/Full/Chair/Armen Living Bellevue Mid-Century Office Chair in Chrome Finish with Grey Faux Leather and Walnut Veneer.jpg',\n",
              " '/content/grive/MyDrive/Data/Full/Bed/Arwen Queen Rustic Wood Bed.jpg',\n",
              " '/content/grive/MyDrive/Data/Full/Bed/August King Bed.jpg',\n",
              " '/content/grive/MyDrive/Data/Full/Bed/Amaris Queen Fabric Platform Bed with Squared Tapered Legs in Gray _ Modway.jpg',\n",
              " '/content/grive/MyDrive/Data/Full/Sofa/Armen Living Zanna Contemporary Sofa in Genuine Dark Brown Leather with Brown Wood Legs.jpg',\n",
              " '/content/grive/MyDrive/Data/Full/Sofa/Arti Grey Velvet Loveseat.jpg',\n",
              " '/content/grive/MyDrive/Data/Full/Chair/Axel Low Back Office Chair.jpg',\n",
              " '/content/grive/MyDrive/Data/Full/Bed/Alina Full Platform Bed Frame.jpg',\n",
              " '/content/grive/MyDrive/Data/Full/Bed/Baxton Studio Alya Classic Traditional Farmhouse White Finished Wood Twin Size Daybed with Roll-Out Trundle Bed.jpg',\n",
              " '/content/grive/MyDrive/Data/Full/Sofa/Armen Living Cambridge Contemporary Sofa in Brushed Stainless Steel and Dark Grey Velvet.jpg',\n",
              " '/content/grive/MyDrive/Data/Full/Chair/Armen Living Wallace Mid-Century Office Chair in Chrome finish with Black Faux Leather and Walnut Veneer Back.jpg',\n",
              " '/content/grive/MyDrive/Data/Full/Chair/Armen Living Bowie Mid-Century Office Chair in Chrome finish with Black Faux Leather and Walnut Veneer Back.jpg',\n",
              " '/content/grive/MyDrive/Data/Full/Bed/Darcy Luxe and Glamour Dark Grey Velvet Upholstered Queen Size Bed.jpg',\n",
              " '/content/grive/MyDrive/Data/Full/Chair/Alexa Desk Chair-Savile Flax.jpg',\n",
              " '/content/grive/MyDrive/Data/Full/Bed/Baxton Studio Alinia Mid-century Retro Modern Light Beige Fabric Upholstered Walnut Wood King Size Platform Bed.jpg',\n",
              " '/content/grive/MyDrive/Data/Full/Bed/Amelie Full Bed White.jpg',\n",
              " '/content/grive/MyDrive/Data/Full/Bed/Shayndel Bed 150 x 190 cm.jpg',\n",
              " '/content/grive/MyDrive/Data/Full/Bed/Amaris Queen Fabric Platform Bed with Squared Tapered Legs.jpg',\n",
              " '/content/grive/MyDrive/Data/Full/Bed/Amaris Twin Fabric Platform Bed with Round Splayed Legs.jpg',\n",
              " '/content/grive/MyDrive/Data/Full/Bed/Annika Queen Platform Bed in Brown.jpg',\n",
              " '/content/grive/MyDrive/Data/Full/Chair/Brandon Office Chair.jpg',\n",
              " '/content/grive/MyDrive/Data/Full/Sofa/ANDAMAN SOFA.jpg',\n",
              " '/content/grive/MyDrive/Data/Full/Chair/ADRIENNE VELVET CHROME LEG SWIVEL OFFICE CHAIR.jpg',\n",
              " '/content/grive/MyDrive/Data/Full/Bed/Aubree Grey Queen Bed.jpg',\n",
              " '/content/grive/MyDrive/Data/Full/Bed/Baxton Studio Alesha Modern and Contemporary Beige Fabric Upholstered Queen Size Bed.jpg',\n",
              " '/content/grive/MyDrive/Data/Full/Chair/Bradley Bungie Office Chair.jpg',\n",
              " '/content/grive/MyDrive/Data/Full/Sofa/Armen Living Regis Cream Sofa With Pine Frame And Gunmetal Legs.jpg',\n",
              " '/content/grive/MyDrive/Data/Full/Bed/Baxton Studio Alessia White Faux Leather Upholstered Daybed with Guest Trundle Bed.jpg',\n",
              " '/content/grive/MyDrive/Data/Full/Chair/Armen Living Geneva Mid-Century Office Chair in Chrome finish with Black Faux Leather and Walnut Veneer Arms.jpg',\n",
              " '/content/grive/MyDrive/Data/Full/Bed/Alexander Queen Bed.jpg',\n",
              " '/content/grive/MyDrive/Data/Full/Sofa/Armen Living Palisade Contemporary Sofa in Grey Velvet with Brown Wood Legs.jpg',\n",
              " '/content/grive/MyDrive/Data/Full/Bed/Baxton Studio Adelia Mid-Century Light Beige Whitewash Queen Size Platform Bed.jpg',\n",
              " '/content/grive/MyDrive/Data/Full/Chair/Brooklyn Low Back Office Chair.jpg',\n",
              " '/content/grive/MyDrive/Data/Full/Sofa/Baxton Studio Arcadia Modern and Contemporary Light Beige Fabric Upholstered Button-Tufted Living Room 3-Seater Sofa.jpg',\n",
              " '/content/grive/MyDrive/Data/Full/Sofa/Baxton Studio Agnes French Provincial Beige Linen Fabric Upholstered and White-Washed Oak Wood Sofa.jpg',\n",
              " '/content/grive/MyDrive/Data/Full/Bed/Amelia King Upholstered Fabric Bed.jpg',\n",
              " '/content/grive/MyDrive/Data/Full/Chair/Becket Fabric Swivel Chair.jpg',\n",
              " '/content/grive/MyDrive/Data/Full/Sofa/Augustine Sofa-97-Hudson Lager.jpg',\n",
              " '/content/grive/MyDrive/Data/Full/Bed/Amelie Bed King Black.jpg',\n",
              " '/content/grive/MyDrive/Data/Full/Chair/Baxton Studio Elia Acrylic Swivel Chair.jpg',\n",
              " '/content/grive/MyDrive/Data/Full/Sofa/Armen Living Andre Contemporary Chair In Gray Tweed and Stainless Steel.jpg',\n",
              " '/content/grive/MyDrive/Data/Full/Bed/Amelie Full Bed Black.jpg',\n",
              " '/content/grive/MyDrive/Data/Full/Sofa/Ascoli Lounge Sofa.jpg',\n",
              " '/content/grive/MyDrive/Data/Full/Chair/Attainment Office Chair.jpg',\n",
              " '/content/grive/MyDrive/Data/Full/Chair/AMY TUFTED VELVET CHROME LEG SWIVEL OFFICE CHAIR.jpg',\n",
              " '/content/grive/MyDrive/Data/Full/Bed/Amelia Queen Upholstered Bed.jpg',\n",
              " '/content/grive/MyDrive/Data/Full/Chair/Andrew Office Chair.jpg',\n",
              " '/content/grive/MyDrive/Data/Full/Sofa/Archer Media Sofa-84.jpg',\n",
              " '/content/grive/MyDrive/Data/Full/Bed/Amelia King Performance Velvet Bed.jpg',\n",
              " '/content/grive/MyDrive/Data/Full/Chair/Baxton Studio Maida Mid-Century Modern Light Brown Fabric Upholstered Office Chair.jpg',\n",
              " '/content/grive/MyDrive/Data/Full/Sofa/Baxton Studio Alaise Modern Classic Beige Linen Tufted Scroll Arm Chesterfield Sofa.jpg',\n",
              " '/content/grive/MyDrive/Data/Full/Chair/ANGEL Dining Chair.jpg',\n",
              " '/content/grive/MyDrive/Data/Full/Sofa/Bag Sofa Velvet Anthracite.jpg',\n",
              " '/content/grive/MyDrive/Data/Full/Bed/Aidan King Bed-Pebble Pewter.jpg',\n",
              " '/content/grive/MyDrive/Data/Full/Chair/Baxton Studio Baxton Studio Elsa Modern and Contemporary White Faux Leather Upholstered Swivel Chair with Metal Base.jpg',\n",
              " '/content/grive/MyDrive/Data/Full/Sofa/Armen Living Hudson Mid-Century Button-Tufted Sofa in Dark Gray Linen and Walnut Legs.jpg',\n",
              " '/content/grive/MyDrive/Data/Full/Chair/Abner PU Swivel Chair.jpg',\n",
              " '/content/grive/MyDrive/Data/Full/Chair/Attainment Vinyl Drafting Chair.jpg',\n",
              " '/content/grive/MyDrive/Data/Full/Chair/Amber Desk Chair-Distressed Brown.jpg',\n",
              " '/content/grive/MyDrive/Data/Full/Bed/Baxton Studio Aneta Modern and Contemporary Grey Fabric Upholstered King Size Platform Bed.jpg',\n",
              " '/content/grive/MyDrive/Data/Full/Sofa/Asta Sofa-98-Fedora Pewter.jpg',\n",
              " '/content/grive/MyDrive/Data/Full/Bed/Baxton Studio Alesha Modern and Contemporary Charcoal Grey Fabric Upholstered Queen Size Bed.jpg',\n",
              " '/content/grive/MyDrive/Data/Full/Bed/Baxton Studio Alessia Dark Brown Faux Leather Upholstered Daybed with Guest Trundle Bed.jpg',\n",
              " '/content/grive/MyDrive/Data/Full/Sofa/Armen Living Odyssey Sofa in Brushed Stainless Steel finish with Grey Tweed and Black Nail heads.jpg',\n",
              " '/content/grive/MyDrive/Data/Full/Bed/Amelia Queen Upholstered Fabric Bed.jpg',\n",
              " '/content/grive/MyDrive/Data/Full/Sofa/Armen Living Palisade Contemporary Sofa in Blue Velvet with Brown Wood Legs.jpg',\n",
              " '/content/grive/MyDrive/Data/Full/Bed/Amaris Twin Fabric Platform Bed with Squared Tapered Legs.jpg',\n",
              " '/content/grive/MyDrive/Data/Full/Sofa/Armen Living Hope Contemporary Sofa in Genuine Dove Grey Leather with Black Metal Legs.jpg',\n",
              " '/content/grive/MyDrive/Data/Full/Chair/BELINDA DESK CHAIR.jpg',\n",
              " '/content/grive/MyDrive/Data/Full/Chair/Advance Office Chair.jpg',\n",
              " '/content/grive/MyDrive/Data/Full/Bed/Amira Full Upholstered Fabric Bed.jpg',\n",
              " '/content/grive/MyDrive/Data/Full/Chair/Brice Modern Office Chair in Industrial Grey Finish and Brown Fabric with Pine Wood Arms.jpg',\n",
              " '/content/grive/MyDrive/Data/Full/Chair/Arya KD Fabric Swivel Chair.jpg',\n",
              " '/content/grive/MyDrive/Data/Full/Bed/Annika Queen Platform Bed Annika Queen Platform Bed in Gray.jpg',\n",
              " '/content/grive/MyDrive/Data/Full/Bed/Anya Full Fabric Bed in Light Gray.jpg',\n",
              " '/content/grive/MyDrive/Data/Full/Sofa/Armen Living Palisade Transitional Sofa in Sand Fabric with Brown Legs.jpg',\n",
              " '/content/grive/MyDrive/Data/Full/Chair/Baxton Studio Bruce Modern and Contemporary White and Walnut Office Chair.jpg',\n",
              " '/content/grive/MyDrive/Data/Full/Bed/aura.jpg',\n",
              " '/content/grive/MyDrive/Data/Full/Sofa/Armen Living Wynne Contemporary Sofa in Genuine Espresso Leather with Brown Wood Legs.jpg',\n",
              " '/content/grive/MyDrive/Data/Full/Chair/Armen Living Geneva Mid-Century Office Chair in Chrome finish with Gray Faux Leather and Walnut Veneer Arms.jpg',\n",
              " '/content/grive/MyDrive/Data/Full/Sofa/Aura Outdoor Patio Wicker Rattan Sofa.jpg',\n",
              " '/content/grive/MyDrive/Data/Full/Chair/Articulate Drafting Chair.jpg',\n",
              " '/content/grive/MyDrive/Data/Full/Sofa/Armen Living Everly Contemporary Sofa in Genuine Dove Grey Leather with Brushed Stainless Steel Legs.jpg',\n",
              " '/content/grive/MyDrive/Data/Full/Bed/Baxton Studio Adelaide Retro Modern Light Grey Fabric Upholstered Queen Size Platform Bed.jpg',\n",
              " '/content/grive/MyDrive/Data/Full/Chair/Belma Low Back Office Chair.jpg',\n",
              " '/content/grive/MyDrive/Data/Full/Sofa/Artena 3 Seater Sofa.jpg',\n",
              " '/content/grive/MyDrive/Data/Full/Sofa/Armen Living Amanda White Corner Sofa.jpg',\n",
              " '/content/grive/MyDrive/Data/Full/Sofa/Armen Living Phantom Mid-Century Modern Sofa in Dark Gray Linen and Walnut Legs.jpg',\n",
              " '/content/grive/MyDrive/Data/Full/Bed/Aiden Velvet Bed.jpg',\n",
              " '/content/grive/MyDrive/Data/Full/Chair/Baxton Studio Micah Modern and Contemporary Grey Fabric Upholstered Tufted Swivel Chair.jpg',\n",
              " '/content/grive/MyDrive/Data/Full/Sofa/Augustine Sofa-97-Orly Natural.jpg',\n",
              " '/content/grive/MyDrive/Data/Full/Chair/Ariel Desk Chair.jpg',\n",
              " '/content/grive/MyDrive/Data/Full/Sofa/Arno Blush Sofa.jpg',\n",
              " '/content/grive/MyDrive/Data/Full/Bed/Annika Queen Platform Bed.jpg',\n",
              " '/content/grive/MyDrive/Data/Full/Bed/Astra Queen Wood Platform Bed .jpg',\n",
              " '/content/grive/MyDrive/Data/Full/Sofa/Armen Living Barrister Sofa In Black Velvet With Crystal Buttons.jpg',\n",
              " '/content/grive/MyDrive/Data/Full/Chair/Airi Office Chair.jpg',\n",
              " '/content/grive/MyDrive/Data/Full/Bed/Baxton Studio Alba Modern Transitional Ash Walnut Brown Finished Wood Full Size 4-Drawer Platform Storage Bed with Built-In Shelves.jpg',\n",
              " '/content/grive/MyDrive/Data/Full/Bed/Baxton Studio Adelie Modern Glam Light Grey Velvet Fabric Upholstered Walnut Brown Finished Wood Queen Size Wingback Platform Bed .jpg',\n",
              " '/content/grive/MyDrive/Data/Full/Bed/Baxton Studio Aden Modern and Contemporary Charcoal Grey Fabric Upholstered Full Size Bed.jpg',\n",
              " '/content/grive/MyDrive/Data/Full/Sofa/Baxton Studio Alaise Modern Classic Grey Linen Tufted Scroll Arm Chesterfield Sofa.jpg',\n",
              " '/content/grive/MyDrive/Data/Full/Bed/Baxton Studio Alinia Mid-century Retro Modern Grey Fabric Upholstered Walnut Wood King Size Platform Bed.jpg',\n",
              " '/content/grive/MyDrive/Data/Full/Bed/180 cm super kingsize bed.jpg',\n",
              " '/content/grive/MyDrive/Data/Full/Sofa/Baxton Studio Amaris Modern and Contemporary Black Bonded Leather 5-Piece Power Reclining Sectional Sofa with USB Ports.jpg',\n",
              " '/content/grive/MyDrive/Data/Full/Chair/Assert Mesh Office Chair.jpg',\n",
              " '/content/grive/MyDrive/Data/Full/Bed/Amelia Full Upholstered Fabric Bed.jpg',\n",
              " '/content/grive/MyDrive/Data/Full/Chair/Banks Swivel Chair-Stonewash Heavy Jute.jpg',\n",
              " '/content/grive/MyDrive/Data/Full/Sofa/Armen Living Andre Contemporary Sofa Chair in Brushed Stainless Steel and Blue Fabric.jpg',\n",
              " '/content/grive/MyDrive/Data/Full/Sofa/Alena Wool Blend Loveseat.jpg',\n",
              " '/content/grive/MyDrive/Data/Full/Bed/Amira King Upholstered Fabric Bed.jpg',\n",
              " '/content/grive/MyDrive/Data/Full/Bed/90cm Bed with underbed drawer.jpg',\n",
              " '/content/grive/MyDrive/Data/Full/Chair/ALBUS SWIVEL OFFICE CHAIR BLUE.jpg',\n",
              " '/content/grive/MyDrive/Data/Full/Chair/Baxton Studio Micah Modern and Contemporary Beige Fabric Upholstered Tufted Swivel Chair.jpg',\n",
              " '/content/grive/MyDrive/Data/Full/Sofa/Armen Living Cobra Mid-Century Modern Sofa in Blue Linen and Walnut Legs.jpg',\n",
              " '/content/grive/MyDrive/Data/Full/Bed/Anya Full Fabric Bed in Light Gray .jpg',\n",
              " '/content/grive/MyDrive/Data/Full/Sofa/Bag Sofa Velvet Sand.jpg',\n",
              " '/content/grive/MyDrive/Data/Full/Bed/Alina Queen Platform Bed Frame.jpg',\n",
              " '/content/grive/MyDrive/Data/Full/Bed/Angela Blush Bed in Queen.jpg']"
            ]
          },
          "metadata": {},
          "execution_count": 46
        }
      ]
    },
    {
      "cell_type": "code",
      "source": [
        "# loop over the shuffled input images\n",
        "for TraImagePath in TraImagePaths:\n",
        "\n",
        "    # Read the image into a numpy array using opencv. All the read images are of different shapes\n",
        "    image = cv2.imread(TraImagePath)\n",
        "    image = cv2.cvtColor(image, cv2.COLOR_BGR2RGB)\n",
        "\n",
        "    # Resize the image to be 150*150 pixels while ignoring aspect ration.\n",
        "    # After reshape size of all the images will become 150*150*3. Total number of pixels in every image = 150*150*3=67500\n",
        "    image = cv2.resize(image, IMAGE_SIZE)\n",
        "\n",
        "    # Flatten converts every 3D image (150*150*3) into 1D numpy array of shape (67500,)((67500,) shape means 67500 columns and 1 row)\n",
        "    image_flatten = image.flatten()\n",
        "\n",
        "    # Append each image data 1D array to the data list\n",
        "    data.append(image_flatten)\n",
        "\n",
        "    # extract the class label from the image path and update the\n",
        "    label = TraImagePath.split(os.path.sep)[-2]\n",
        "\n",
        "    # Append each image label to the labels list\n",
        "    labels.append(label)\n",
        "\n",
        "# scale the raw pixel intensities to the range [0, 1]\n",
        "#convert the data and label list to numpy array\n",
        "data = np.array(data, dtype=\"float\") / 255.0\n",
        "labels = np.array(labels)"
      ],
      "metadata": {
        "id": "tuh1FwAG9EEh"
      },
      "execution_count": null,
      "outputs": []
    },
    {
      "cell_type": "code",
      "source": [
        "labels.shape"
      ],
      "metadata": {
        "colab": {
          "base_uri": "https://localhost:8080/"
        },
        "id": "JhyD1hoYLFt1",
        "outputId": "d693db63-5bc9-4e18-b14a-da1a8dd4b335"
      },
      "execution_count": null,
      "outputs": [
        {
          "output_type": "execute_result",
          "data": {
            "text/plain": [
              "(300,)"
            ]
          },
          "metadata": {},
          "execution_count": 48
        }
      ]
    },
    {
      "cell_type": "code",
      "source": [
        "data.shape"
      ],
      "metadata": {
        "colab": {
          "base_uri": "https://localhost:8080/"
        },
        "id": "nYqASOMVXgLQ",
        "outputId": "a3d00a91-8687-4208-c2df-2ba300d1323f"
      },
      "execution_count": null,
      "outputs": [
        {
          "output_type": "execute_result",
          "data": {
            "text/plain": [
              "(300, 67500)"
            ]
          },
          "metadata": {},
          "execution_count": 49
        }
      ]
    },
    {
      "cell_type": "code",
      "source": [
        "# import libraries\n",
        "from sklearn.preprocessing import LabelBinarizer\n",
        "from sklearn import preprocessing\n",
        "from sklearn.model_selection import train_test_split\n",
        "from sklearn.metrics import classification_report,confusion_matrix"
      ],
      "metadata": {
        "id": "tsXQddE2PSoP"
      },
      "execution_count": null,
      "outputs": []
    },
    {
      "cell_type": "code",
      "source": [
        "# Split data into training and testing using 75% of the data for training and the remaining 25% for testing\n",
        "(trainX, testX, trainY, testY) = train_test_split(data, labels, test_size=0.25, random_state=42)\n",
        "\n",
        "print(\"Number of training images--->\",len(trainX),\",\",\"Number of training labels--->\",len(trainY))\n",
        "print(\"Number of testing images--->\",len(testX),\",\",\"Number of testing labels--->\",len(testY))\n",
        "\n",
        "# convert the labels from integers to vectors by perform One hot encoding of all the labels using scikit-learn's function LabelBinarizer\n",
        "# LabelBinarizer fit_transform finds all the labels\n",
        "lb = preprocessing.LabelBinarizer()\n",
        "# fit_transform() Learn the parameters and apply the transformation to new data\n",
        "trainY = lb.fit_transform(trainY)\n",
        "# transform() Apply the learned transformation to new data\n",
        "testY = lb.transform(testY)\n",
        "\n",
        "print(\"\\n\")\n",
        "print (\"Classes found to train\",)\n",
        "train_classes = lb.classes_\n",
        "print(train_classes)\n",
        "\n",
        "binary_rep_each_class = lb.transform(train_classes)\n",
        "print(\"Binary representation of each class\")\n",
        "print(binary_rep_each_class)\n",
        "print(\"\\n\")"
      ],
      "metadata": {
        "colab": {
          "base_uri": "https://localhost:8080/"
        },
        "id": "pLWuROzoYN9r",
        "outputId": "1b83b3fc-c79a-4a8c-ee1a-e4aa34d039c4"
      },
      "execution_count": null,
      "outputs": [
        {
          "output_type": "stream",
          "name": "stdout",
          "text": [
            "Number of training images---> 225 , Number of training labels---> 225\n",
            "Number of testing images---> 75 , Number of testing labels---> 75\n",
            "\n",
            "\n",
            "Classes found to train\n",
            "['Bed' 'Chair' 'Sofa']\n",
            "Binary representation of each class\n",
            "[[1 0 0]\n",
            " [0 1 0]\n",
            " [0 0 1]]\n",
            "\n",
            "\n"
          ]
        }
      ]
    },
    {
      "cell_type": "code",
      "source": [
        "# import libraries\n",
        "import keras\n",
        "from keras import models\n",
        "from keras import layers\n",
        "from keras import optimizers\n",
        "\n",
        "import tensorflow as tf"
      ],
      "metadata": {
        "id": "S3anOpGBPjRs"
      },
      "execution_count": null,
      "outputs": []
    },
    {
      "cell_type": "code",
      "source": [
        "# define model using Keras\n",
        "model = keras.models.Sequential()\n",
        "\n",
        "# Our input layer has 67500 nodes, one for each of the 150 x 150 x 3 = 67500 raw pixel intensities in our flattened input images\n",
        "model.add(keras.layers.Dense(1024, input_shape=(67500,), activation='relu'))\n",
        "model.add(keras.layers.Dense(512, activation='relu'))\n",
        "model.add(keras.layers.Dense(len(train_classes), activation=\"softmax\"))\n",
        "\n",
        "print (\"Printing the summary of model\")\n",
        "model.summary()"
      ],
      "metadata": {
        "colab": {
          "base_uri": "https://localhost:8080/"
        },
        "id": "0_boHbrTNFpW",
        "outputId": "d8f3a3b2-ebf4-4386-bfc2-b7ccc2531101"
      },
      "execution_count": null,
      "outputs": [
        {
          "output_type": "stream",
          "name": "stdout",
          "text": [
            "Printing the summary of model\n",
            "Model: \"sequential_4\"\n",
            "_________________________________________________________________\n",
            " Layer (type)                Output Shape              Param #   \n",
            "=================================================================\n",
            " dense_12 (Dense)            (None, 1024)              69121024  \n",
            "                                                                 \n",
            " dense_13 (Dense)            (None, 512)               524800    \n",
            "                                                                 \n",
            " dense_14 (Dense)            (None, 3)                 1539      \n",
            "                                                                 \n",
            "=================================================================\n",
            "Total params: 69,647,363\n",
            "Trainable params: 69,647,363\n",
            "Non-trainable params: 0\n",
            "_________________________________________________________________\n"
          ]
        }
      ]
    },
    {
      "cell_type": "code",
      "source": [
        "# Initialize # of epochs to train\n",
        "EPOCHS = 9\n",
        "\n",
        "# initialize initial learning rate\n",
        "INIT_LR = 0.001\n",
        "\n",
        "# compile the model using SGD as our optimizer and categorical\n",
        "# cross-entropy loss as we have 3 classes\n",
        "# opt = keras.optimizers.SGD(lr=INIT_LR)\n",
        "model.compile(loss=\"categorical_crossentropy\", optimizer='adam',metrics=[\"accuracy\"])"
      ],
      "metadata": {
        "id": "8UwN9aswRZHE"
      },
      "execution_count": null,
      "outputs": []
    },
    {
      "cell_type": "code",
      "source": [
        "# train the neural network\n",
        "H = model.fit(trainX, trainY, validation_data=(testX, testY),epochs=EPOCHS, batch_size=32)"
      ],
      "metadata": {
        "colab": {
          "base_uri": "https://localhost:8080/"
        },
        "id": "Ozl1b4d2SbyZ",
        "outputId": "7f6d4c63-8144-4d4c-bc98-3ea21aa619da"
      },
      "execution_count": null,
      "outputs": [
        {
          "output_type": "stream",
          "name": "stdout",
          "text": [
            "Epoch 1/9\n",
            "8/8 [==============================] - 2s 53ms/step - loss: 23.4822 - accuracy: 0.5111 - val_loss: 11.9511 - val_accuracy: 0.7067\n",
            "Epoch 2/9\n",
            "8/8 [==============================] - 0s 25ms/step - loss: 10.5607 - accuracy: 0.5956 - val_loss: 4.0756 - val_accuracy: 0.6267\n",
            "Epoch 3/9\n",
            "8/8 [==============================] - 0s 31ms/step - loss: 2.5956 - accuracy: 0.6711 - val_loss: 0.4657 - val_accuracy: 0.8800\n",
            "Epoch 4/9\n",
            "8/8 [==============================] - 0s 32ms/step - loss: 1.6123 - accuracy: 0.7422 - val_loss: 1.6504 - val_accuracy: 0.7467\n",
            "Epoch 5/9\n",
            "8/8 [==============================] - 0s 29ms/step - loss: 1.2975 - accuracy: 0.7156 - val_loss: 1.8725 - val_accuracy: 0.7067\n",
            "Epoch 6/9\n",
            "8/8 [==============================] - 0s 24ms/step - loss: 1.1805 - accuracy: 0.7689 - val_loss: 0.4128 - val_accuracy: 0.8933\n",
            "Epoch 7/9\n",
            "8/8 [==============================] - 0s 24ms/step - loss: 0.2661 - accuracy: 0.9200 - val_loss: 0.3914 - val_accuracy: 0.8933\n",
            "Epoch 8/9\n",
            "8/8 [==============================] - 0s 25ms/step - loss: 0.1667 - accuracy: 0.9333 - val_loss: 0.5150 - val_accuracy: 0.8667\n",
            "Epoch 9/9\n",
            "8/8 [==============================] - 0s 26ms/step - loss: 0.2436 - accuracy: 0.9244 - val_loss: 0.5027 - val_accuracy: 0.8800\n"
          ]
        }
      ]
    },
    {
      "cell_type": "code",
      "source": [
        "# evaluate the network\n",
        "print(\"[INFO] evaluating network...\")\n",
        "predictions = model.predict(testX, batch_size=32)\n",
        "\n",
        "# print the performance report of the prediction\n",
        "print(classification_report(testY.argmax(axis=1),\tpredictions.argmax(axis=1), target_names=lb.classes_))"
      ],
      "metadata": {
        "colab": {
          "base_uri": "https://localhost:8080/"
        },
        "id": "ImRiMQ05Ueoq",
        "outputId": "e5ae151c-2d8b-41d3-b4eb-59c4693986e7"
      },
      "execution_count": null,
      "outputs": [
        {
          "output_type": "stream",
          "name": "stdout",
          "text": [
            "[INFO] evaluating network...\n",
            "3/3 [==============================] - 0s 6ms/step\n",
            "              precision    recall  f1-score   support\n",
            "\n",
            "         Bed       0.78      0.90      0.84        20\n",
            "       Chair       0.96      0.86      0.91        28\n",
            "        Sofa       0.89      0.89      0.89        27\n",
            "\n",
            "    accuracy                           0.88        75\n",
            "   macro avg       0.88      0.88      0.88        75\n",
            "weighted avg       0.89      0.88      0.88        75\n",
            "\n"
          ]
        }
      ]
    }
  ]
}